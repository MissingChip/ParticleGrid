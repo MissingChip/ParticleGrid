{
 "cells": [
  {
   "cell_type": "markdown",
   "id": "8fbd9600",
   "metadata": {},
   "source": [
    "## Visualization 3D Structures\n"
   ]
  },
  {
   "cell_type": "markdown",
   "id": "15d972f6",
   "metadata": {},
   "source": [
    "#### Installing dependencies "
   ]
  },
  {
   "cell_type": "code",
   "execution_count": 1,
   "id": "b887e37c",
   "metadata": {},
   "outputs": [],
   "source": [
    "import numpy as np\n",
    "from numpy import sin,cos,pi\n",
    "import k3d\n",
    "from ParticleGrid import coord_to_grid"
   ]
  },
  {
   "cell_type": "code",
   "execution_count": 13,
   "id": "a4a1231d",
   "metadata": {},
   "outputs": [],
   "source": [
    "mol_coord = \\\n",
    "np.array([[2.5800, -0.0846, 0.2795], \n",
    "[1.0798,0.0425,0.0073], \n",
    "[0.3586,-1.1959,0.5442], \n",
    "[-1.1382,-1.0748,0.2367], \n",
    "[-1.6446,0.2643,0.7847], \n",
    "[-0.7719,1.3922,0.2296], \n",
    "[0.5782,1.2114,0.6527],\n",
    "[-0.8283,1.3778,-1.1982],\n",
    "[-3.0002,0.4649,0.3793],\n",
    "[-1.3428,-1.1226,-1.1768],\n",
    "[0.8832,-2.3658,-0.0869],\n",
    "[3.2681,1.0135,-0.3228],\n",
    "[2.7560,-0.0777,1.3552],\n",
    "[2.9479,-1.0196,-0.1429],\n",
    "[0.9118,0.1225,-1.0667],\n",
    "[0.5051,-1.2646,1.6221], \n",
    "[-1.6772,-1.8929,0.7146], \n",
    "[-1.5850,0.2589,1.8730], \n",
    "[-1.1413,2.3500,0.5962], \n",
    "[-0.2667,2.1017,-1.5074],\n",
    "[-3.2780,1.3161,0.7444], \n",
    "[-2.2952,-1.0433,-1.3242], \n",
    "[0.4023,-3.1205,0.2794], \n",
    "[4.2078,0.8952,-0.1280]]) "
   ]
  },
  {
   "cell_type": "markdown",
   "id": "78059b5f-901f-4bdc-b63e-1a4f1a60eff5",
   "metadata": {},
   "source": [
    "### Translate and Pad the Points"
   ]
  },
  {
   "cell_type": "code",
   "execution_count": 14,
   "id": "28c4292a-06bb-4391-996d-be589954b79a",
   "metadata": {},
   "outputs": [
    {
     "name": "stdout",
     "output_type": "stream",
     "text": [
      "Translate molecule coordiantes to positive quadrant:  [0. 0. 0.]\n",
      "Pad molecule coordiantes away from quadrant boundary:  [2. 2. 2.]\n"
     ]
    }
   ],
   "source": [
    "padding = 2\n",
    "translation_vector = mol_coord.min(axis=0)\n",
    "mol_coord = mol_coord - translation_vector\n",
    "print(\"Translate molecule coordiantes to positive quadrant: \",mol_coord.min(axis=0))\n",
    "mol_coord = mol_coord + padding\n",
    "print(\"Pad molecule coordiantes away from quadrant boundary: \",mol_coord.min(axis=0))"
   ]
  },
  {
   "cell_type": "code",
   "execution_count": 15,
   "id": "7958baca-467a-4696-b6c6-074e50930acd",
   "metadata": {},
   "outputs": [
    {
     "name": "stdout",
     "output_type": "stream",
     "text": [
      "[[0.     7.858  5.0359 3.7869]\n",
      " [0.     6.3578 5.163  3.5147]\n",
      " [0.     5.6366 3.9246 4.0516]\n",
      " [0.     4.1398 4.0457 3.7441]\n",
      " [0.     3.6334 5.3848 4.2921]\n",
      " [0.     4.5061 6.5127 3.737 ]\n",
      " [0.     5.8562 6.3319 4.1601]\n",
      " [0.     4.4497 6.4983 2.3092]\n",
      " [0.     2.2778 5.5854 3.8867]\n",
      " [0.     3.9352 3.9979 2.3306]\n",
      " [0.     6.1612 2.7547 3.4205]\n",
      " [0.     8.5461 6.134  3.1846]\n",
      " [0.     8.034  5.0428 4.8626]\n",
      " [0.     8.2259 4.1009 3.3645]\n",
      " [0.     6.1898 5.243  2.4407]\n",
      " [0.     5.7831 3.8559 5.1295]\n",
      " [0.     3.6008 3.2276 4.222 ]\n",
      " [0.     3.693  5.3794 5.3804]\n",
      " [0.     4.1367 7.4705 4.1036]\n",
      " [0.     5.0113 7.2222 2.    ]\n",
      " [0.     2.     6.4366 4.2518]\n",
      " [0.     2.9828 4.0772 2.1832]\n",
      " [0.     5.6803 2.     3.7868]\n",
      " [0.     9.4858 6.0157 3.3794]]\n"
     ]
    }
   ],
   "source": [
    "mol_coord = np.hstack([np.zeros((24,1)),mol_coord])\n",
    "print(mol_coord)"
   ]
  },
  {
   "cell_type": "markdown",
   "id": "a36c1ce5-f1dd-4641-ab1c-6e6f1fc811ac",
   "metadata": {},
   "source": [
    "### Generate Grid"
   ]
  },
  {
   "cell_type": "code",
   "execution_count": 39,
   "id": "62bd7451-3367-4e9b-98fd-b573aacacd5c",
   "metadata": {},
   "outputs": [
    {
     "name": "stdout",
     "output_type": "stream",
     "text": [
      "Bounding cube side dimension:  11.4858\n"
     ]
    }
   ],
   "source": [
    "bounding_cube_size = mol_coord.max() + padding \n",
    "print(\"Bounding cube side dimension: \", bounding_cube_size)\n",
    "grid = coord_to_grid(mol_coord,\n",
    "                     width=bounding_cube_size,\n",
    "                     height=bounding_cube_size,\n",
    "                     depth=bounding_cube_size,\n",
    "                     num_channels=1,\n",
    "                     grid_size=32,\n",
    "                     variance=0.25)"
   ]
  },
  {
   "cell_type": "code",
   "execution_count": 43,
   "id": "3228f2af-0566-43ee-a7d5-12d400b96aea",
   "metadata": {},
   "outputs": [
    {
     "data": {
      "text/plain": [
       "0.13938503"
      ]
     },
     "execution_count": 43,
     "metadata": {},
     "output_type": "execute_result"
    }
   ],
   "source": [
    "grid.max()"
   ]
  },
  {
   "cell_type": "code",
   "execution_count": 48,
   "id": "ff7a0b7d-98f0-4bf5-97fe-41af3242e76c",
   "metadata": {},
   "outputs": [
    {
     "data": {
      "application/vnd.jupyter.widget-view+json": {
       "model_id": "f280fd40c1614ba39340b73af447c107",
       "version_major": 2,
       "version_minor": 0
      },
      "text/plain": [
       "Output()"
      ]
     },
     "metadata": {},
     "output_type": "display_data"
    }
   ],
   "source": [
    "plot = k3d.plot()\n",
    "\n",
    "volume = k3d.volume(grid.sum(0).astype(np.float32),\n",
    "                    alpha_coef=100,\n",
    "                    shadow='off', #dynamic is a fancy option but require a good GPU\n",
    "                    color_range = [grid.min(), grid.max()],\n",
    "                    color_map = k3d.colormaps.matplotlib_color_maps.Jet,\n",
    "                    samples=1200)\n",
    "plot += volume\n",
    "plot.display()"
   ]
  },
  {
   "cell_type": "code",
   "execution_count": null,
   "id": "12060f33-5a75-4900-bb42-fa3e4d10f2f9",
   "metadata": {},
   "outputs": [],
   "source": []
  }
 ],
 "metadata": {
  "kernelspec": {
   "display_name": "Python 3",
   "language": "python",
   "name": "python3"
  },
  "language_info": {
   "codemirror_mode": {
    "name": "ipython",
    "version": 3
   },
   "file_extension": ".py",
   "mimetype": "text/x-python",
   "name": "python",
   "nbconvert_exporter": "python",
   "pygments_lexer": "ipython3",
   "version": "3.9.7"
  }
 },
 "nbformat": 4,
 "nbformat_minor": 5
}
